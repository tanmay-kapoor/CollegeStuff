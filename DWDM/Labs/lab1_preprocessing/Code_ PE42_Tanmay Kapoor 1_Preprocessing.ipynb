{
 "cells": [
  {
   "cell_type": "code",
   "execution_count": 1,
   "metadata": {},
   "outputs": [],
   "source": [
    "import numpy as np\n",
    "import pandas as pd\n",
    "import matplotlib"
   ]
  },
  {
   "cell_type": "code",
   "execution_count": 4,
   "metadata": {},
   "outputs": [],
   "source": [
    "data = pd.read_csv(\"datatset_airplaneprices_PE42_Tanmay Kapoor_Preprocessing.csv\")"
   ]
  },
  {
   "cell_type": "markdown",
   "metadata": {},
   "source": [
    "# Viewing data"
   ]
  },
  {
   "cell_type": "code",
   "execution_count": 5,
   "metadata": {
    "scrolled": true
   },
   "outputs": [
    {
     "data": {
      "text/html": [
       "<div>\n",
       "<style scoped>\n",
       "    .dataframe tbody tr th:only-of-type {\n",
       "        vertical-align: middle;\n",
       "    }\n",
       "\n",
       "    .dataframe tbody tr th {\n",
       "        vertical-align: top;\n",
       "    }\n",
       "\n",
       "    .dataframe thead th {\n",
       "        text-align: right;\n",
       "    }\n",
       "</style>\n",
       "<table border=\"1\" class=\"dataframe\">\n",
       "  <thead>\n",
       "    <tr style=\"text-align: right;\">\n",
       "      <th></th>\n",
       "      <th>Year</th>\n",
       "      <th>Quarter</th>\n",
       "      <th>U.S. Average (Current $)</th>\n",
       "      <th>U.S. Average (Inflation-Adjusted $)</th>\n",
       "    </tr>\n",
       "  </thead>\n",
       "  <tbody>\n",
       "    <tr>\n",
       "      <th>0</th>\n",
       "      <td>1995</td>\n",
       "      <td>1</td>\n",
       "      <td>296.90</td>\n",
       "      <td>466.98</td>\n",
       "    </tr>\n",
       "    <tr>\n",
       "      <th>1</th>\n",
       "      <td>1995</td>\n",
       "      <td>2</td>\n",
       "      <td>296.80</td>\n",
       "      <td>463.46</td>\n",
       "    </tr>\n",
       "    <tr>\n",
       "      <th>2</th>\n",
       "      <td>1995</td>\n",
       "      <td>3</td>\n",
       "      <td>287.51</td>\n",
       "      <td>446.91</td>\n",
       "    </tr>\n",
       "    <tr>\n",
       "      <th>3</th>\n",
       "      <td>1995</td>\n",
       "      <td>4</td>\n",
       "      <td>287.78</td>\n",
       "      <td>446.44</td>\n",
       "    </tr>\n",
       "    <tr>\n",
       "      <th>4</th>\n",
       "      <td>1996</td>\n",
       "      <td>1</td>\n",
       "      <td>283.97</td>\n",
       "      <td>434.31</td>\n",
       "    </tr>\n",
       "  </tbody>\n",
       "</table>\n",
       "</div>"
      ],
      "text/plain": [
       "   Year  Quarter  U.S. Average (Current $)  \\\n",
       "0  1995        1                    296.90   \n",
       "1  1995        2                    296.80   \n",
       "2  1995        3                    287.51   \n",
       "3  1995        4                    287.78   \n",
       "4  1996        1                    283.97   \n",
       "\n",
       "   U.S. Average (Inflation-Adjusted $)  \n",
       "0                               466.98  \n",
       "1                               463.46  \n",
       "2                               446.91  \n",
       "3                               446.44  \n",
       "4                               434.31  "
      ]
     },
     "execution_count": 5,
     "metadata": {},
     "output_type": "execute_result"
    }
   ],
   "source": [
    "#first 5 rows of dataset\n",
    "data.head()"
   ]
  },
  {
   "cell_type": "code",
   "execution_count": 6,
   "metadata": {},
   "outputs": [
    {
     "data": {
      "text/html": [
       "<div>\n",
       "<style scoped>\n",
       "    .dataframe tbody tr th:only-of-type {\n",
       "        vertical-align: middle;\n",
       "    }\n",
       "\n",
       "    .dataframe tbody tr th {\n",
       "        vertical-align: top;\n",
       "    }\n",
       "\n",
       "    .dataframe thead th {\n",
       "        text-align: right;\n",
       "    }\n",
       "</style>\n",
       "<table border=\"1\" class=\"dataframe\">\n",
       "  <thead>\n",
       "    <tr style=\"text-align: right;\">\n",
       "      <th></th>\n",
       "      <th>Year</th>\n",
       "      <th>Quarter</th>\n",
       "      <th>U.S. Average (Current $)</th>\n",
       "      <th>U.S. Average (Inflation-Adjusted $)</th>\n",
       "    </tr>\n",
       "  </thead>\n",
       "  <tbody>\n",
       "    <tr>\n",
       "      <th>80</th>\n",
       "      <td>2015</td>\n",
       "      <td>1</td>\n",
       "      <td>388.32</td>\n",
       "      <td>391.63</td>\n",
       "    </tr>\n",
       "    <tr>\n",
       "      <th>81</th>\n",
       "      <td>2015</td>\n",
       "      <td>2</td>\n",
       "      <td>385.91</td>\n",
       "      <td>385.09</td>\n",
       "    </tr>\n",
       "    <tr>\n",
       "      <th>82</th>\n",
       "      <td>2015</td>\n",
       "      <td>3</td>\n",
       "      <td>371.72</td>\n",
       "      <td>372.01</td>\n",
       "    </tr>\n",
       "    <tr>\n",
       "      <th>83</th>\n",
       "      <td>2015</td>\n",
       "      <td>4</td>\n",
       "      <td>362.56</td>\n",
       "      <td>365.02</td>\n",
       "    </tr>\n",
       "    <tr>\n",
       "      <th>84</th>\n",
       "      <td>2016</td>\n",
       "      <td>1</td>\n",
       "      <td>361.20</td>\n",
       "      <td>361.20</td>\n",
       "    </tr>\n",
       "  </tbody>\n",
       "</table>\n",
       "</div>"
      ],
      "text/plain": [
       "    Year  Quarter  U.S. Average (Current $)  \\\n",
       "80  2015        1                    388.32   \n",
       "81  2015        2                    385.91   \n",
       "82  2015        3                    371.72   \n",
       "83  2015        4                    362.56   \n",
       "84  2016        1                    361.20   \n",
       "\n",
       "    U.S. Average (Inflation-Adjusted $)  \n",
       "80                               391.63  \n",
       "81                               385.09  \n",
       "82                               372.01  \n",
       "83                               365.02  \n",
       "84                               361.20  "
      ]
     },
     "execution_count": 6,
     "metadata": {},
     "output_type": "execute_result"
    }
   ],
   "source": [
    "#bottom 5 rows\n",
    "data.tail()"
   ]
  },
  {
   "cell_type": "markdown",
   "metadata": {},
   "source": [
    "# Checking for missing values"
   ]
  },
  {
   "cell_type": "code",
   "execution_count": 7,
   "metadata": {
    "scrolled": true
   },
   "outputs": [
    {
     "data": {
      "text/html": [
       "<div>\n",
       "<style scoped>\n",
       "    .dataframe tbody tr th:only-of-type {\n",
       "        vertical-align: middle;\n",
       "    }\n",
       "\n",
       "    .dataframe tbody tr th {\n",
       "        vertical-align: top;\n",
       "    }\n",
       "\n",
       "    .dataframe thead th {\n",
       "        text-align: right;\n",
       "    }\n",
       "</style>\n",
       "<table border=\"1\" class=\"dataframe\">\n",
       "  <thead>\n",
       "    <tr style=\"text-align: right;\">\n",
       "      <th></th>\n",
       "      <th>Year</th>\n",
       "      <th>Quarter</th>\n",
       "      <th>U.S. Average (Current $)</th>\n",
       "      <th>U.S. Average (Inflation-Adjusted $)</th>\n",
       "    </tr>\n",
       "  </thead>\n",
       "  <tbody>\n",
       "    <tr>\n",
       "      <th>0</th>\n",
       "      <td>False</td>\n",
       "      <td>False</td>\n",
       "      <td>False</td>\n",
       "      <td>False</td>\n",
       "    </tr>\n",
       "    <tr>\n",
       "      <th>1</th>\n",
       "      <td>False</td>\n",
       "      <td>False</td>\n",
       "      <td>False</td>\n",
       "      <td>False</td>\n",
       "    </tr>\n",
       "    <tr>\n",
       "      <th>2</th>\n",
       "      <td>False</td>\n",
       "      <td>False</td>\n",
       "      <td>False</td>\n",
       "      <td>False</td>\n",
       "    </tr>\n",
       "    <tr>\n",
       "      <th>3</th>\n",
       "      <td>False</td>\n",
       "      <td>False</td>\n",
       "      <td>False</td>\n",
       "      <td>False</td>\n",
       "    </tr>\n",
       "    <tr>\n",
       "      <th>4</th>\n",
       "      <td>False</td>\n",
       "      <td>False</td>\n",
       "      <td>False</td>\n",
       "      <td>False</td>\n",
       "    </tr>\n",
       "    <tr>\n",
       "      <th>...</th>\n",
       "      <td>...</td>\n",
       "      <td>...</td>\n",
       "      <td>...</td>\n",
       "      <td>...</td>\n",
       "    </tr>\n",
       "    <tr>\n",
       "      <th>80</th>\n",
       "      <td>False</td>\n",
       "      <td>False</td>\n",
       "      <td>False</td>\n",
       "      <td>False</td>\n",
       "    </tr>\n",
       "    <tr>\n",
       "      <th>81</th>\n",
       "      <td>False</td>\n",
       "      <td>False</td>\n",
       "      <td>False</td>\n",
       "      <td>False</td>\n",
       "    </tr>\n",
       "    <tr>\n",
       "      <th>82</th>\n",
       "      <td>False</td>\n",
       "      <td>False</td>\n",
       "      <td>False</td>\n",
       "      <td>False</td>\n",
       "    </tr>\n",
       "    <tr>\n",
       "      <th>83</th>\n",
       "      <td>False</td>\n",
       "      <td>False</td>\n",
       "      <td>False</td>\n",
       "      <td>False</td>\n",
       "    </tr>\n",
       "    <tr>\n",
       "      <th>84</th>\n",
       "      <td>False</td>\n",
       "      <td>False</td>\n",
       "      <td>False</td>\n",
       "      <td>False</td>\n",
       "    </tr>\n",
       "  </tbody>\n",
       "</table>\n",
       "<p>85 rows × 4 columns</p>\n",
       "</div>"
      ],
      "text/plain": [
       "     Year  Quarter  U.S. Average (Current $)  \\\n",
       "0   False    False                     False   \n",
       "1   False    False                     False   \n",
       "2   False    False                     False   \n",
       "3   False    False                     False   \n",
       "4   False    False                     False   \n",
       "..    ...      ...                       ...   \n",
       "80  False    False                     False   \n",
       "81  False    False                     False   \n",
       "82  False    False                     False   \n",
       "83  False    False                     False   \n",
       "84  False    False                     False   \n",
       "\n",
       "    U.S. Average (Inflation-Adjusted $)  \n",
       "0                                 False  \n",
       "1                                 False  \n",
       "2                                 False  \n",
       "3                                 False  \n",
       "4                                 False  \n",
       "..                                  ...  \n",
       "80                                False  \n",
       "81                                False  \n",
       "82                                False  \n",
       "83                                False  \n",
       "84                                False  \n",
       "\n",
       "[85 rows x 4 columns]"
      ]
     },
     "execution_count": 7,
     "metadata": {},
     "output_type": "execute_result"
    }
   ],
   "source": [
    "data.isnull()"
   ]
  },
  {
   "cell_type": "code",
   "execution_count": 8,
   "metadata": {},
   "outputs": [
    {
     "data": {
      "text/plain": [
       "True"
      ]
     },
     "execution_count": 8,
     "metadata": {},
     "output_type": "execute_result"
    }
   ],
   "source": [
    "#if any value null\n",
    "data.isnull().values.any()"
   ]
  },
  {
   "cell_type": "code",
   "execution_count": 9,
   "metadata": {},
   "outputs": [
    {
     "data": {
      "text/plain": [
       "Year                                   False\n",
       "Quarter                                False\n",
       "U.S. Average (Current $)                True\n",
       "U.S. Average (Inflation-Adjusted $)     True\n",
       "dtype: bool"
      ]
     },
     "execution_count": 9,
     "metadata": {},
     "output_type": "execute_result"
    }
   ],
   "source": [
    "data.isnull().any()"
   ]
  },
  {
   "cell_type": "code",
   "execution_count": 10,
   "metadata": {},
   "outputs": [
    {
     "data": {
      "text/plain": [
       "(85, 4)"
      ]
     },
     "execution_count": 10,
     "metadata": {},
     "output_type": "execute_result"
    }
   ],
   "source": [
    "#size of dataset in terms of rows and cols\n",
    "data.shape"
   ]
  },
  {
   "cell_type": "code",
   "execution_count": 11,
   "metadata": {},
   "outputs": [
    {
     "data": {
      "text/plain": [
       "Index(['Year', 'Quarter', 'U.S. Average (Current $)',\n",
       "       'U.S. Average (Inflation-Adjusted $)'],\n",
       "      dtype='object')"
      ]
     },
     "execution_count": 11,
     "metadata": {},
     "output_type": "execute_result"
    }
   ],
   "source": [
    "#column titles\n",
    "data.columns"
   ]
  },
  {
   "cell_type": "code",
   "execution_count": 12,
   "metadata": {},
   "outputs": [
    {
     "data": {
      "text/plain": [
       "Year                                     int64\n",
       "Quarter                                  int64\n",
       "U.S. Average (Current $)               float64\n",
       "U.S. Average (Inflation-Adjusted $)    float64\n",
       "dtype: object"
      ]
     },
     "execution_count": 12,
     "metadata": {},
     "output_type": "execute_result"
    }
   ],
   "source": [
    "data.dtypes"
   ]
  },
  {
   "cell_type": "code",
   "execution_count": 13,
   "metadata": {},
   "outputs": [
    {
     "name": "stdout",
     "output_type": "stream",
     "text": [
      "0    296.90\n",
      "1    296.80\n",
      "2    287.51\n",
      "3    287.78\n",
      "4    283.97\n",
      "Name: U.S. Average (Current $), dtype: float64\n"
     ]
    }
   ],
   "source": [
    "#stadium of first 5 rows\n",
    "print(data[0:5]['U.S. Average (Current $)'])"
   ]
  },
  {
   "cell_type": "code",
   "execution_count": 14,
   "metadata": {},
   "outputs": [
    {
     "name": "stdout",
     "output_type": "stream",
     "text": [
      "    Quarter  U.S. Average (Current $)\n",
      "0         1                    296.90\n",
      "1         2                    296.80\n",
      "2         3                    287.51\n",
      "3         4                    287.78\n",
      "4         1                    283.97\n",
      "..      ...                       ...\n",
      "80        1                    388.32\n",
      "81        2                    385.91\n",
      "82        3                    371.72\n",
      "83        4                    362.56\n",
      "84        1                    361.20\n",
      "\n",
      "[85 rows x 2 columns]\n"
     ]
    }
   ],
   "source": [
    "#stadium and city of whole\n",
    "print(data.loc[:, ['Quarter', 'U.S. Average (Current $)']])"
   ]
  },
  {
   "cell_type": "code",
   "execution_count": 15,
   "metadata": {},
   "outputs": [
    {
     "data": {
      "text/plain": [
       "Year                                    0\n",
       "Quarter                                 0\n",
       "U.S. Average (Current $)               10\n",
       "U.S. Average (Inflation-Adjusted $)     8\n",
       "dtype: int64"
      ]
     },
     "execution_count": 15,
     "metadata": {},
     "output_type": "execute_result"
    }
   ],
   "source": [
    "#how many null values in each col\n",
    "data.isnull().sum()"
   ]
  },
  {
   "cell_type": "code",
   "execution_count": 16,
   "metadata": {
    "scrolled": true
   },
   "outputs": [
    {
     "name": "stdout",
     "output_type": "stream",
     "text": [
      "40     True\n",
      "41    False\n",
      "42    False\n",
      "43     True\n",
      "44    False\n",
      "45    False\n",
      "46    False\n",
      "47    False\n",
      "48    False\n",
      "49    False\n",
      "Name: U.S. Average (Inflation-Adjusted $), dtype: bool\n"
     ]
    }
   ],
   "source": [
    "print(data[40:50]['U.S. Average (Inflation-Adjusted $)'].isnull())"
   ]
  },
  {
   "cell_type": "code",
   "execution_count": 17,
   "metadata": {},
   "outputs": [
    {
     "data": {
      "text/html": [
       "<div>\n",
       "<style scoped>\n",
       "    .dataframe tbody tr th:only-of-type {\n",
       "        vertical-align: middle;\n",
       "    }\n",
       "\n",
       "    .dataframe tbody tr th {\n",
       "        vertical-align: top;\n",
       "    }\n",
       "\n",
       "    .dataframe thead th {\n",
       "        text-align: right;\n",
       "    }\n",
       "</style>\n",
       "<table border=\"1\" class=\"dataframe\">\n",
       "  <thead>\n",
       "    <tr style=\"text-align: right;\">\n",
       "      <th></th>\n",
       "      <th>Year</th>\n",
       "      <th>Quarter</th>\n",
       "      <th>U.S. Average (Current $)</th>\n",
       "      <th>U.S. Average (Inflation-Adjusted $)</th>\n",
       "    </tr>\n",
       "  </thead>\n",
       "  <tbody>\n",
       "    <tr>\n",
       "      <th>0</th>\n",
       "      <td>1995</td>\n",
       "      <td>1</td>\n",
       "      <td>296.90</td>\n",
       "      <td>466.98</td>\n",
       "    </tr>\n",
       "    <tr>\n",
       "      <th>1</th>\n",
       "      <td>1995</td>\n",
       "      <td>2</td>\n",
       "      <td>296.80</td>\n",
       "      <td>463.46</td>\n",
       "    </tr>\n",
       "    <tr>\n",
       "      <th>2</th>\n",
       "      <td>1995</td>\n",
       "      <td>3</td>\n",
       "      <td>287.51</td>\n",
       "      <td>446.91</td>\n",
       "    </tr>\n",
       "    <tr>\n",
       "      <th>3</th>\n",
       "      <td>1995</td>\n",
       "      <td>4</td>\n",
       "      <td>287.78</td>\n",
       "      <td>446.44</td>\n",
       "    </tr>\n",
       "    <tr>\n",
       "      <th>4</th>\n",
       "      <td>1996</td>\n",
       "      <td>1</td>\n",
       "      <td>283.97</td>\n",
       "      <td>434.31</td>\n",
       "    </tr>\n",
       "    <tr>\n",
       "      <th>...</th>\n",
       "      <td>...</td>\n",
       "      <td>...</td>\n",
       "      <td>...</td>\n",
       "      <td>...</td>\n",
       "    </tr>\n",
       "    <tr>\n",
       "      <th>80</th>\n",
       "      <td>2015</td>\n",
       "      <td>1</td>\n",
       "      <td>388.32</td>\n",
       "      <td>391.63</td>\n",
       "    </tr>\n",
       "    <tr>\n",
       "      <th>81</th>\n",
       "      <td>2015</td>\n",
       "      <td>2</td>\n",
       "      <td>385.91</td>\n",
       "      <td>385.09</td>\n",
       "    </tr>\n",
       "    <tr>\n",
       "      <th>82</th>\n",
       "      <td>2015</td>\n",
       "      <td>3</td>\n",
       "      <td>371.72</td>\n",
       "      <td>372.01</td>\n",
       "    </tr>\n",
       "    <tr>\n",
       "      <th>83</th>\n",
       "      <td>2015</td>\n",
       "      <td>4</td>\n",
       "      <td>362.56</td>\n",
       "      <td>365.02</td>\n",
       "    </tr>\n",
       "    <tr>\n",
       "      <th>84</th>\n",
       "      <td>2016</td>\n",
       "      <td>1</td>\n",
       "      <td>361.20</td>\n",
       "      <td>361.20</td>\n",
       "    </tr>\n",
       "  </tbody>\n",
       "</table>\n",
       "<p>85 rows × 4 columns</p>\n",
       "</div>"
      ],
      "text/plain": [
       "    Year  Quarter  U.S. Average (Current $)  \\\n",
       "0   1995        1                    296.90   \n",
       "1   1995        2                    296.80   \n",
       "2   1995        3                    287.51   \n",
       "3   1995        4                    287.78   \n",
       "4   1996        1                    283.97   \n",
       "..   ...      ...                       ...   \n",
       "80  2015        1                    388.32   \n",
       "81  2015        2                    385.91   \n",
       "82  2015        3                    371.72   \n",
       "83  2015        4                    362.56   \n",
       "84  2016        1                    361.20   \n",
       "\n",
       "    U.S. Average (Inflation-Adjusted $)  \n",
       "0                                466.98  \n",
       "1                                463.46  \n",
       "2                                446.91  \n",
       "3                                446.44  \n",
       "4                                434.31  \n",
       "..                                  ...  \n",
       "80                               391.63  \n",
       "81                               385.09  \n",
       "82                               372.01  \n",
       "83                               365.02  \n",
       "84                               361.20  \n",
       "\n",
       "[85 rows x 4 columns]"
      ]
     },
     "execution_count": 17,
     "metadata": {},
     "output_type": "execute_result"
    }
   ],
   "source": [
    "#fills missing values\n",
    "data.fillna(0)"
   ]
  },
  {
   "cell_type": "code",
   "execution_count": 18,
   "metadata": {},
   "outputs": [
    {
     "name": "stdout",
     "output_type": "stream",
     "text": [
      "404.4940259740261\n"
     ]
    }
   ],
   "source": [
    "#mean of all years\n",
    "print(data['U.S. Average (Inflation-Adjusted $)'].mean())\n",
    "# print(dataset[0:50]['Year'])"
   ]
  },
  {
   "cell_type": "markdown",
   "metadata": {},
   "source": [
    "# Dropping rows with missing values"
   ]
  },
  {
   "cell_type": "code",
   "execution_count": 19,
   "metadata": {},
   "outputs": [
    {
     "data": {
      "text/html": [
       "<div>\n",
       "<style scoped>\n",
       "    .dataframe tbody tr th:only-of-type {\n",
       "        vertical-align: middle;\n",
       "    }\n",
       "\n",
       "    .dataframe tbody tr th {\n",
       "        vertical-align: top;\n",
       "    }\n",
       "\n",
       "    .dataframe thead th {\n",
       "        text-align: right;\n",
       "    }\n",
       "</style>\n",
       "<table border=\"1\" class=\"dataframe\">\n",
       "  <thead>\n",
       "    <tr style=\"text-align: right;\">\n",
       "      <th></th>\n",
       "      <th>Year</th>\n",
       "      <th>Quarter</th>\n",
       "      <th>U.S. Average (Current $)</th>\n",
       "      <th>U.S. Average (Inflation-Adjusted $)</th>\n",
       "    </tr>\n",
       "  </thead>\n",
       "  <tbody>\n",
       "    <tr>\n",
       "      <th>0</th>\n",
       "      <td>1995</td>\n",
       "      <td>1</td>\n",
       "      <td>296.90</td>\n",
       "      <td>466.98</td>\n",
       "    </tr>\n",
       "    <tr>\n",
       "      <th>1</th>\n",
       "      <td>1995</td>\n",
       "      <td>2</td>\n",
       "      <td>296.80</td>\n",
       "      <td>463.46</td>\n",
       "    </tr>\n",
       "    <tr>\n",
       "      <th>2</th>\n",
       "      <td>1995</td>\n",
       "      <td>3</td>\n",
       "      <td>287.51</td>\n",
       "      <td>446.91</td>\n",
       "    </tr>\n",
       "    <tr>\n",
       "      <th>3</th>\n",
       "      <td>1995</td>\n",
       "      <td>4</td>\n",
       "      <td>287.78</td>\n",
       "      <td>446.44</td>\n",
       "    </tr>\n",
       "    <tr>\n",
       "      <th>4</th>\n",
       "      <td>1996</td>\n",
       "      <td>1</td>\n",
       "      <td>283.97</td>\n",
       "      <td>434.31</td>\n",
       "    </tr>\n",
       "    <tr>\n",
       "      <th>...</th>\n",
       "      <td>...</td>\n",
       "      <td>...</td>\n",
       "      <td>...</td>\n",
       "      <td>...</td>\n",
       "    </tr>\n",
       "    <tr>\n",
       "      <th>80</th>\n",
       "      <td>2015</td>\n",
       "      <td>1</td>\n",
       "      <td>388.32</td>\n",
       "      <td>391.63</td>\n",
       "    </tr>\n",
       "    <tr>\n",
       "      <th>81</th>\n",
       "      <td>2015</td>\n",
       "      <td>2</td>\n",
       "      <td>385.91</td>\n",
       "      <td>385.09</td>\n",
       "    </tr>\n",
       "    <tr>\n",
       "      <th>82</th>\n",
       "      <td>2015</td>\n",
       "      <td>3</td>\n",
       "      <td>371.72</td>\n",
       "      <td>372.01</td>\n",
       "    </tr>\n",
       "    <tr>\n",
       "      <th>83</th>\n",
       "      <td>2015</td>\n",
       "      <td>4</td>\n",
       "      <td>362.56</td>\n",
       "      <td>365.02</td>\n",
       "    </tr>\n",
       "    <tr>\n",
       "      <th>84</th>\n",
       "      <td>2016</td>\n",
       "      <td>1</td>\n",
       "      <td>361.20</td>\n",
       "      <td>361.20</td>\n",
       "    </tr>\n",
       "  </tbody>\n",
       "</table>\n",
       "<p>69 rows × 4 columns</p>\n",
       "</div>"
      ],
      "text/plain": [
       "    Year  Quarter  U.S. Average (Current $)  \\\n",
       "0   1995        1                    296.90   \n",
       "1   1995        2                    296.80   \n",
       "2   1995        3                    287.51   \n",
       "3   1995        4                    287.78   \n",
       "4   1996        1                    283.97   \n",
       "..   ...      ...                       ...   \n",
       "80  2015        1                    388.32   \n",
       "81  2015        2                    385.91   \n",
       "82  2015        3                    371.72   \n",
       "83  2015        4                    362.56   \n",
       "84  2016        1                    361.20   \n",
       "\n",
       "    U.S. Average (Inflation-Adjusted $)  \n",
       "0                                466.98  \n",
       "1                                463.46  \n",
       "2                                446.91  \n",
       "3                                446.44  \n",
       "4                                434.31  \n",
       "..                                  ...  \n",
       "80                               391.63  \n",
       "81                               385.09  \n",
       "82                               372.01  \n",
       "83                               365.02  \n",
       "84                               361.20  \n",
       "\n",
       "[69 rows x 4 columns]"
      ]
     },
     "execution_count": 19,
     "metadata": {},
     "output_type": "execute_result"
    }
   ],
   "source": [
    "data_without_null = data.dropna()\n",
    "data_without_null"
   ]
  },
  {
   "cell_type": "markdown",
   "metadata": {},
   "source": [
    "# Replcaing missing values with mean"
   ]
  },
  {
   "cell_type": "code",
   "execution_count": 20,
   "metadata": {
    "scrolled": false
   },
   "outputs": [
    {
     "data": {
      "text/plain": [
       "0     466.98\n",
       "1     463.46\n",
       "2     446.91\n",
       "3     446.44\n",
       "4     434.31\n",
       "       ...  \n",
       "80    391.63\n",
       "81    385.09\n",
       "82    372.01\n",
       "83    365.02\n",
       "84    361.20\n",
       "Name: U.S. Average (Inflation-Adjusted $), Length: 85, dtype: float64"
      ]
     },
     "execution_count": 20,
     "metadata": {},
     "output_type": "execute_result"
    }
   ],
   "source": [
    "#not working\n",
    "data[\"U.S. Average (Inflation-Adjusted $)\"].replace(np.NaN, data[\"U.S. Average (Inflation-Adjusted $)\"].mean())"
   ]
  },
  {
   "cell_type": "code",
   "execution_count": 23,
   "metadata": {
    "scrolled": true
   },
   "outputs": [
    {
     "data": {
      "text/plain": [
       "0     296.90\n",
       "1     296.80\n",
       "2     287.51\n",
       "3     287.78\n",
       "4     283.97\n",
       "       ...  \n",
       "80    388.32\n",
       "81    385.91\n",
       "82    371.72\n",
       "83    362.56\n",
       "84    361.20\n",
       "Name: U.S. Average (Current $), Length: 85, dtype: float64"
      ]
     },
     "execution_count": 23,
     "metadata": {},
     "output_type": "execute_result"
    }
   ],
   "source": [
    "#working\n",
    "data[\"U.S. Average (Current $)\"].fillna(data[\"U.S. Average (Current $)\"].mean())"
   ]
  },
  {
   "cell_type": "code",
   "execution_count": 24,
   "metadata": {
    "scrolled": false
   },
   "outputs": [
    {
     "name": "stdout",
     "output_type": "stream",
     "text": [
      "40     True\n",
      "41    False\n",
      "42    False\n",
      "43     True\n",
      "44    False\n",
      "45    False\n",
      "46    False\n",
      "47    False\n",
      "48    False\n",
      "49    False\n",
      "Name: U.S. Average (Inflation-Adjusted $), dtype: bool\n"
     ]
    },
    {
     "data": {
      "text/plain": [
       "Year                                   False\n",
       "Quarter                                False\n",
       "U.S. Average (Current $)                True\n",
       "U.S. Average (Inflation-Adjusted $)     True\n",
       "dtype: bool"
      ]
     },
     "execution_count": 24,
     "metadata": {},
     "output_type": "execute_result"
    }
   ],
   "source": [
    "print(data[40:50]['U.S. Average (Inflation-Adjusted $)'].isnull())\n",
    "data.isnull().any()"
   ]
  },
  {
   "cell_type": "code",
   "execution_count": 25,
   "metadata": {
    "scrolled": false
   },
   "outputs": [
    {
     "name": "stdout",
     "output_type": "stream",
     "text": [
      "40       NaN\n",
      "41    306.68\n",
      "42    305.91\n",
      "43       NaN\n",
      "44    323.34\n",
      "45    341.58\n",
      "46    330.12\n",
      "47    318.16\n",
      "48    317.84\n",
      "49    325.39\n",
      "Name: U.S. Average (Current $), dtype: float64\n"
     ]
    }
   ],
   "source": [
    "print(data[40:50]['U.S. Average (Current $)'])"
   ]
  },
  {
   "cell_type": "code",
   "execution_count": null,
   "metadata": {},
   "outputs": [],
   "source": []
  }
 ],
 "metadata": {
  "kernelspec": {
   "display_name": "Python 3",
   "language": "python",
   "name": "python3"
  },
  "language_info": {
   "codemirror_mode": {
    "name": "ipython",
    "version": 3
   },
   "file_extension": ".py",
   "mimetype": "text/x-python",
   "name": "python",
   "nbconvert_exporter": "python",
   "pygments_lexer": "ipython3",
   "version": "3.8.5"
  }
 },
 "nbformat": 4,
 "nbformat_minor": 4
}
